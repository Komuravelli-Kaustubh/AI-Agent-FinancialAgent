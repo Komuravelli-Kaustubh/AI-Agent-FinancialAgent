{
  "cells": [
    {
      "cell_type": "markdown",
      "metadata": {
        "id": "view-in-github",
        "colab_type": "text"
      },
      "source": [
        "<a href=\"https://colab.research.google.com/github/Komuravelli-Kaustubh/AI-Agent-FinancialAgent/blob/main/Agent-order_status_assistant.ipynb\" target=\"_parent\"><img src=\"https://colab.research.google.com/assets/colab-badge.svg\" alt=\"Open In Colab\"/></a>"
      ]
    },
    {
      "cell_type": "markdown",
      "id": "d78bacc9",
      "metadata": {
        "id": "d78bacc9"
      },
      "source": [
        "Before you turn this problem in, make sure everything runs as expected. First, **restart the kernel** (in the menubar, select Kernel$\\rightarrow$Restart) and then **run all cells** (in the menubar, select Cell$\\rightarrow$Run All).\n",
        "\n",
        "Make sure you fill in any place that says `YOUR CODE HERE` or \"YOUR ANSWER HERE\", as well as your name and collaborators below:"
      ]
    },
    {
      "cell_type": "code",
      "execution_count": 1,
      "id": "abd9b78d",
      "metadata": {
        "id": "abd9b78d"
      },
      "outputs": [],
      "source": [
        "NAME = \"Kaustubh\"\n",
        "COLLABORATORS = \"ksb\""
      ]
    },
    {
      "cell_type": "markdown",
      "id": "e427bee5",
      "metadata": {
        "id": "e427bee5"
      },
      "source": [
        "---"
      ]
    },
    {
      "cell_type": "code",
      "execution_count": 2,
      "id": "673bb9e9-8456-4b26-b552-e5ea062f1f59",
      "metadata": {
        "id": "673bb9e9-8456-4b26-b552-e5ea062f1f59"
      },
      "outputs": [],
      "source": [
        "# '''\n",
        "# return-policy.txt\n",
        "# -----------------\n",
        "# return_policy:\n",
        "# Our return policy allows returns within 30 days of purchase.\n",
        "# for Tablet , the return policy allows return within 10 days of purchase.\n",
        "\n",
        "# order_tracking:\n",
        "# You can track your order status using your order ID.\n",
        "\n",
        "# product_info:\n",
        "# Product information includes specifications and features.\n",
        "\n",
        "# orders.json\n",
        "# ------------\n",
        "# {\n",
        "#     \"123\": {\n",
        "#         \"customer_name\": \"John Doe\",\n",
        "#         \"order_date\": \"2022-01-01\",\n",
        "#         \"products\": [\"Laptop\", \"Monitor\"],\n",
        "#         \"total\": 1500.00\n",
        "#     },\n",
        "#     \"124\": {\n",
        "#         \"customer_name\": \"Jane Doe\",\n",
        "#         \"order_date\": \"2022-01-15\",\n",
        "#         \"products\": [\"Phone\", \"Keyboard\"],\n",
        "#         \"total\": 800.00\n",
        "#     },\n",
        "#     \"125\": {\n",
        "#         \"customer_name\": \"Bob Smith\",\n",
        "#         \"order_date\": \"2022-02-01\",\n",
        "#         \"products\": [\"Tablet\", \"Laptop\"],\n",
        "#         \"total\": 2500.00\n",
        "#     }\n",
        "# }\n",
        "\n",
        "\n",
        "# product_info.json\n",
        "# -----------------\n",
        "# {\n",
        "#     \"Laptop\": \"A high-performance laptop with 16GB RAM and 512GB SSD.\",\n",
        "#     \"Phone\": \"A smartphone with a 6.1-inch display and 128GB storage.\",\n",
        "#     \"Tablet\": \"A tablet with a 10.5-inch display and 256GB storage.\",\n",
        "#     \"Monitor\": \"A 24-inch full HD monitor.\",\n",
        "#     \"Keyboard\": \"A mechanical keyboard with RGB backlighting.\"\n",
        "# }\n",
        "\n",
        "\n",
        "# order_status.json\n",
        "# -----------------\n",
        "# {\n",
        "#     \"123\": \"Delivered\",\n",
        "#     \"124\": \"Delivered\",\n",
        "#     \"125\": \"Delivered\",\n",
        "# }\n",
        "\n",
        "# '''"
      ]
    },
    {
      "cell_type": "code",
      "source": [
        "# ✅ Create return-policy.txt\n",
        "with open(\"return-policy.txt\", \"w\") as f:\n",
        "    f.write(\"\"\"return_policy:\n",
        "Our return policy allows returns within 30 days of purchase.\n",
        "for Tablet , the return policy allows return within 10 days of purchase.\n",
        "\n",
        "order_tracking:\n",
        "You can track your order status using your order ID.\n",
        "\n",
        "product_info:\n",
        "Product information includes specifications and features.\n",
        "\"\"\")\n",
        "\n",
        "# ✅ Create orders.json\n",
        "import json\n",
        "\n",
        "orders = {\n",
        "    \"123\": {\n",
        "        \"customer_name\": \"John Doe\",\n",
        "        \"order_date\": \"2022-01-01\",\n",
        "        \"products\": [\"Laptop\", \"Monitor\"],\n",
        "        \"total\": 1500.00\n",
        "    },\n",
        "    \"124\": {\n",
        "        \"customer_name\": \"Jane Doe\",\n",
        "        \"order_date\": \"2022-01-15\",\n",
        "        \"products\": [\"Phone\", \"Keyboard\"],\n",
        "        \"total\": 800.00\n",
        "    },\n",
        "    \"125\": {\n",
        "        \"customer_name\": \"Bob Smith\",\n",
        "        \"order_date\": \"2022-02-01\",\n",
        "        \"products\": [\"Tablet\", \"Laptop\"],\n",
        "        \"total\": 2500.00\n",
        "    }\n",
        "}\n",
        "\n",
        "with open(\"orders.json\", \"w\") as f:\n",
        "    json.dump(orders, f, indent=4)\n",
        "\n",
        "# ✅ Create product_info.json\n",
        "product_info = {\n",
        "    \"Laptop\": \"A high-performance laptop with 16GB RAM and 512GB SSD.\",\n",
        "    \"Phone\": \"A smartphone with a 6.1-inch display and 128GB storage.\",\n",
        "    \"Tablet\": \"A tablet with a 10.5-inch display and 256GB storage.\",\n",
        "    \"Monitor\": \"A 24-inch full HD monitor.\",\n",
        "    \"Keyboard\": \"A mechanical keyboard with RGB backlighting.\"\n",
        "}\n",
        "\n",
        "with open(\"product_info.json\", \"w\") as f:\n",
        "    json.dump(product_info, f, indent=4)\n",
        "\n",
        "# ✅ Create order_status.json\n",
        "order_status = {\n",
        "    \"123\": \"Delivered\",\n",
        "    \"124\": \"Delivered\",\n",
        "    \"125\": \"Delivered\"\n",
        "}\n",
        "\n",
        "with open(\"order_status.json\", \"w\") as f:\n",
        "    json.dump(order_status, f, indent=4)\n"
      ],
      "metadata": {
        "id": "l_5tHkEUFyBf"
      },
      "id": "l_5tHkEUFyBf",
      "execution_count": 6,
      "outputs": []
    },
    {
      "cell_type": "code",
      "execution_count": 7,
      "id": "8124c618-1c24-4676-8441-233da056748c",
      "metadata": {
        "id": "8124c618-1c24-4676-8441-233da056748c"
      },
      "outputs": [],
      "source": [
        "from langchain.tools import Tool\n",
        "import json\n",
        "# from langchain_openai import ChatOpenAI\n",
        "import os\n",
        "from datetime import date\n",
        "\n",
        "def get_order_status_tool(order_id):\n",
        "    if not order_id.startswith(\"order_id = \"):\n",
        "        return \"Please provide an order ID in the format: 'order_id = <your_order_id>'\"\n",
        "\n",
        "    try:\n",
        "        order_id = order_id.replace(\"order_id = \", \"\")\n",
        "        with open('order_status.json', 'r') as file:\n",
        "            order_status = json.load(file)\n",
        "        return order_status.get(str(order_id), \"Order ID not found\")\n",
        "    except Exception as e:\n",
        "        print(f\"Error reading order_status.json: {e}\")\n",
        "        return \"Order ID not found\"\n",
        "\n",
        "def save_order_status_returned_tool(order_id):\n",
        "    # Check for the correct format of order_id\n",
        "    if not order_id.startswith(\"order_id = \"):\n",
        "        return \"Please provide an order ID in the format: 'order_id = <your_order_id>'\"\n",
        "\n",
        "    try:\n",
        "        # Read the existing data from the file\n",
        "        try:\n",
        "            with open('order_status.json', 'r') as file:\n",
        "                order_status = json.load(file)\n",
        "        except FileNotFoundError:\n",
        "            order_status = {}\n",
        "        except json.JSONDecodeError:\n",
        "            order_status = {}\n",
        "\n",
        "        # Extract the actual order ID\n",
        "        order_id = order_id.replace(\"order_id = \", \"\")\n",
        "\n",
        "        # Check if the order ID exists in the current data\n",
        "        if order_id not in order_status:\n",
        "            return \"Order ID not found\"\n",
        "\n",
        "        # Update the specific order status to \"Returned\"\n",
        "        order_status[str(order_id)] = \"Returned\"\n",
        "\n",
        "        # Write the updated data back to the file\n",
        "        with open('order_status.json', 'w') as file:\n",
        "            json.dump(order_status, file, indent=4)\n",
        "\n",
        "        return \"Order status updated successfully.\"\n",
        "\n",
        "    except Exception as e:\n",
        "        print(f\"Error saving order_status.json: {e}\")\n",
        "        return \"Failed to save order status.\"\n",
        "\n",
        "def get_product_info_tool(product_name):\n",
        "    if not product_name.startswith(\"product_name = \"):\n",
        "        return \"Please provide a product name in the format: 'product_name = <your_product_name>'\"\n",
        "\n",
        "    try:\n",
        "        product_name = product_name.replace(\"product_name = \", \"\")\n",
        "        with open('product_info.json', 'r') as file:\n",
        "            product_info = json.load(file)\n",
        "        return product_info.get(product_name, \"Product not found\")\n",
        "    except Exception as e:\n",
        "        print(f\"Error reading product_info.json: {e}\")\n",
        "        return \"Product not found\"\n",
        "\n",
        "def get_order_info_tool(order_id):\n",
        "    if not order_id.startswith(\"order_id = \"):\n",
        "        return \"Please provide an order ID in the format: 'order_id = <your_order_id>'\"\n",
        "\n",
        "    try:\n",
        "        order_id = order_id.replace(\"order_id = \", \"\")\n",
        "        with open('orders.json', 'r') as file:\n",
        "            orders = json.load(file)\n",
        "        return orders.get(str(order_id), \"Order ID not found\")\n",
        "    except Exception as e:\n",
        "        print(f\"Error reading orders.json: {e}\")\n",
        "        return \"Order ID not found\"\n",
        "\n",
        "def get_today_date(today=date.today()):\n",
        "    return \"today is {}\".format(today)\n",
        "\n",
        "\n",
        "input_tool = Tool(\n",
        "    name=\"get_input_from_user\",\n",
        "    func=input,\n",
        "    description=\"Get the input from the user.\"\n",
        ")\n",
        "\n",
        "order_status_tool = Tool(\n",
        "    name=\"get_order_status\",\n",
        "    func=get_order_status_tool,\n",
        "    description=\"Get the status of an order given an order ID.\"\n",
        ")\n",
        "\n",
        "product_info_tool = Tool(\n",
        "    name=\"get_product_info\",\n",
        "    func=get_product_info_tool,\n",
        "    description=\"Get information about a product given its name.\"\n",
        ")\n",
        "\n",
        "order_info_tool = Tool(\n",
        "    name=\"get_order_info\",\n",
        "    func=get_order_info_tool,\n",
        "    description=\"Get information about an order given its ID.\"\n",
        ")\n",
        "\n",
        "order_status_returned_tool = Tool(\n",
        "    name=\"save_order_status_returned\",\n",
        "    func=save_order_status_returned_tool,\n",
        "    description=\"Save the status of an order given an order ID.\"\n",
        ")\n",
        "\n",
        "get_today_date_tool = Tool(\n",
        "    name=\"get_today_date\",\n",
        "    func=get_today_date,\n",
        "    description=\"Get the current day date.\"\n",
        ")\n"
      ]
    },
    {
      "cell_type": "code",
      "execution_count": 8,
      "id": "8b0db923-1aca-42e4-a5df-baac935c90e8",
      "metadata": {
        "deletable": false,
        "editable": false,
        "nbgrader": {
          "cell_type": "code",
          "checksum": "80bc138c5b7b89874cd031f3d2c8b8fe",
          "grade": true,
          "grade_id": "cell-561005cecbf5c5c1",
          "locked": true,
          "points": 50,
          "schema_version": 3,
          "solution": false,
          "task": false
        },
        "id": "8b0db923-1aca-42e4-a5df-baac935c90e8"
      },
      "outputs": [],
      "source": [
        "order_status = order_status_tool.invoke(\"order_id = 124\")\n",
        "assert(order_status=='Delivered')"
      ]
    },
    {
      "cell_type": "code",
      "execution_count": 9,
      "id": "82769d99-cb03-4757-bc60-3ae5ca6bfb15",
      "metadata": {
        "colab": {
          "base_uri": "https://localhost:8080/"
        },
        "id": "82769d99-cb03-4757-bc60-3ae5ca6bfb15",
        "outputId": "59c48ef3-3369-46a4-96bb-f6cf7a15c31f"
      },
      "outputs": [
        {
          "output_type": "stream",
          "name": "stdout",
          "text": [
            "\u001b[?25l   \u001b[90m━━━━━━━━━━━━━━━━━━━━━━━━━━━━━━━━━━━━━━━━\u001b[0m \u001b[32m0.0/126.7 kB\u001b[0m \u001b[31m?\u001b[0m eta \u001b[36m-:--:--\u001b[0m\r\u001b[2K   \u001b[90m━━━━━━━━━━━━━━━━━━━━━━━━━━━━━━━━━━━━━━━━\u001b[0m \u001b[32m126.7/126.7 kB\u001b[0m \u001b[31m4.3 MB/s\u001b[0m eta \u001b[36m0:00:00\u001b[0m\n",
            "\u001b[?25h"
          ]
        }
      ],
      "source": [
        "# os.environ[\"OPENAI_API_KEY\"] = \"<place your open ai api key here>\"\n",
        "# llm = ChatOpenAI(model=\"gpt-4o\", temperature=0)\n",
        "# 🛠️ Install required packages\n",
        "!pip install -q langchain-groq groq python-dotenv\n",
        "\n",
        "# ✅ Set API key directly in Colab (you can paste your Groq key here)\n",
        "import os\n",
        "os.environ[\"GROQ_API_KEY\"] = \"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\"  # 🔒 Replace with your actual key\n",
        "\n",
        "# ✅ Initialize Groq LLM (using LangChain)\n",
        "from langchain_groq import ChatGroq\n",
        "\n",
        "llm = ChatGroq(\n",
        "    model_name=\"llama3-70b-8192\",  # Options: mixtral-8x7b-32768, gemma-7b-it\n",
        "    temperature=0\n",
        ")"
      ]
    },
    {
      "cell_type": "code",
      "source": [
        "!pip install langchain-community"
      ],
      "metadata": {
        "colab": {
          "base_uri": "https://localhost:8080/"
        },
        "id": "1OvhP-EJGGr0",
        "outputId": "2eda2c2b-333c-43c3-c6d5-ab670191467a"
      },
      "id": "1OvhP-EJGGr0",
      "execution_count": 11,
      "outputs": [
        {
          "output_type": "stream",
          "name": "stdout",
          "text": [
            "Collecting langchain-community\n",
            "  Downloading langchain_community-0.3.21-py3-none-any.whl.metadata (2.4 kB)\n",
            "Requirement already satisfied: langchain-core<1.0.0,>=0.3.51 in /usr/local/lib/python3.11/dist-packages (from langchain-community) (0.3.51)\n",
            "Requirement already satisfied: langchain<1.0.0,>=0.3.23 in /usr/local/lib/python3.11/dist-packages (from langchain-community) (0.3.23)\n",
            "Requirement already satisfied: SQLAlchemy<3,>=1.4 in /usr/local/lib/python3.11/dist-packages (from langchain-community) (2.0.40)\n",
            "Requirement already satisfied: requests<3,>=2 in /usr/local/lib/python3.11/dist-packages (from langchain-community) (2.32.3)\n",
            "Requirement already satisfied: PyYAML>=5.3 in /usr/local/lib/python3.11/dist-packages (from langchain-community) (6.0.2)\n",
            "Requirement already satisfied: aiohttp<4.0.0,>=3.8.3 in /usr/local/lib/python3.11/dist-packages (from langchain-community) (3.11.15)\n",
            "Requirement already satisfied: tenacity!=8.4.0,<10,>=8.1.0 in /usr/local/lib/python3.11/dist-packages (from langchain-community) (9.1.2)\n",
            "Collecting dataclasses-json<0.7,>=0.5.7 (from langchain-community)\n",
            "  Downloading dataclasses_json-0.6.7-py3-none-any.whl.metadata (25 kB)\n",
            "Collecting pydantic-settings<3.0.0,>=2.4.0 (from langchain-community)\n",
            "  Downloading pydantic_settings-2.8.1-py3-none-any.whl.metadata (3.5 kB)\n",
            "Requirement already satisfied: langsmith<0.4,>=0.1.125 in /usr/local/lib/python3.11/dist-packages (from langchain-community) (0.3.24)\n",
            "Collecting httpx-sse<1.0.0,>=0.4.0 (from langchain-community)\n",
            "  Downloading httpx_sse-0.4.0-py3-none-any.whl.metadata (9.0 kB)\n",
            "Requirement already satisfied: numpy<3,>=1.26.2 in /usr/local/lib/python3.11/dist-packages (from langchain-community) (2.0.2)\n",
            "Requirement already satisfied: aiohappyeyeballs>=2.3.0 in /usr/local/lib/python3.11/dist-packages (from aiohttp<4.0.0,>=3.8.3->langchain-community) (2.6.1)\n",
            "Requirement already satisfied: aiosignal>=1.1.2 in /usr/local/lib/python3.11/dist-packages (from aiohttp<4.0.0,>=3.8.3->langchain-community) (1.3.2)\n",
            "Requirement already satisfied: attrs>=17.3.0 in /usr/local/lib/python3.11/dist-packages (from aiohttp<4.0.0,>=3.8.3->langchain-community) (25.3.0)\n",
            "Requirement already satisfied: frozenlist>=1.1.1 in /usr/local/lib/python3.11/dist-packages (from aiohttp<4.0.0,>=3.8.3->langchain-community) (1.5.0)\n",
            "Requirement already satisfied: multidict<7.0,>=4.5 in /usr/local/lib/python3.11/dist-packages (from aiohttp<4.0.0,>=3.8.3->langchain-community) (6.3.2)\n",
            "Requirement already satisfied: propcache>=0.2.0 in /usr/local/lib/python3.11/dist-packages (from aiohttp<4.0.0,>=3.8.3->langchain-community) (0.3.1)\n",
            "Requirement already satisfied: yarl<2.0,>=1.17.0 in /usr/local/lib/python3.11/dist-packages (from aiohttp<4.0.0,>=3.8.3->langchain-community) (1.18.3)\n",
            "Collecting marshmallow<4.0.0,>=3.18.0 (from dataclasses-json<0.7,>=0.5.7->langchain-community)\n",
            "  Downloading marshmallow-3.26.1-py3-none-any.whl.metadata (7.3 kB)\n",
            "Collecting typing-inspect<1,>=0.4.0 (from dataclasses-json<0.7,>=0.5.7->langchain-community)\n",
            "  Downloading typing_inspect-0.9.0-py3-none-any.whl.metadata (1.5 kB)\n",
            "Requirement already satisfied: langchain-text-splitters<1.0.0,>=0.3.8 in /usr/local/lib/python3.11/dist-packages (from langchain<1.0.0,>=0.3.23->langchain-community) (0.3.8)\n",
            "Requirement already satisfied: pydantic<3.0.0,>=2.7.4 in /usr/local/lib/python3.11/dist-packages (from langchain<1.0.0,>=0.3.23->langchain-community) (2.11.2)\n",
            "Requirement already satisfied: jsonpatch<2.0,>=1.33 in /usr/local/lib/python3.11/dist-packages (from langchain-core<1.0.0,>=0.3.51->langchain-community) (1.33)\n",
            "Requirement already satisfied: packaging<25,>=23.2 in /usr/local/lib/python3.11/dist-packages (from langchain-core<1.0.0,>=0.3.51->langchain-community) (24.2)\n",
            "Requirement already satisfied: typing-extensions>=4.7 in /usr/local/lib/python3.11/dist-packages (from langchain-core<1.0.0,>=0.3.51->langchain-community) (4.13.1)\n",
            "Requirement already satisfied: httpx<1,>=0.23.0 in /usr/local/lib/python3.11/dist-packages (from langsmith<0.4,>=0.1.125->langchain-community) (0.28.1)\n",
            "Requirement already satisfied: orjson<4.0.0,>=3.9.14 in /usr/local/lib/python3.11/dist-packages (from langsmith<0.4,>=0.1.125->langchain-community) (3.10.16)\n",
            "Requirement already satisfied: requests-toolbelt<2.0.0,>=1.0.0 in /usr/local/lib/python3.11/dist-packages (from langsmith<0.4,>=0.1.125->langchain-community) (1.0.0)\n",
            "Requirement already satisfied: zstandard<0.24.0,>=0.23.0 in /usr/local/lib/python3.11/dist-packages (from langsmith<0.4,>=0.1.125->langchain-community) (0.23.0)\n",
            "Requirement already satisfied: python-dotenv>=0.21.0 in /usr/local/lib/python3.11/dist-packages (from pydantic-settings<3.0.0,>=2.4.0->langchain-community) (1.1.0)\n",
            "Requirement already satisfied: charset-normalizer<4,>=2 in /usr/local/lib/python3.11/dist-packages (from requests<3,>=2->langchain-community) (3.4.1)\n",
            "Requirement already satisfied: idna<4,>=2.5 in /usr/local/lib/python3.11/dist-packages (from requests<3,>=2->langchain-community) (3.10)\n",
            "Requirement already satisfied: urllib3<3,>=1.21.1 in /usr/local/lib/python3.11/dist-packages (from requests<3,>=2->langchain-community) (2.3.0)\n",
            "Requirement already satisfied: certifi>=2017.4.17 in /usr/local/lib/python3.11/dist-packages (from requests<3,>=2->langchain-community) (2025.1.31)\n",
            "Requirement already satisfied: greenlet>=1 in /usr/local/lib/python3.11/dist-packages (from SQLAlchemy<3,>=1.4->langchain-community) (3.1.1)\n",
            "Requirement already satisfied: anyio in /usr/local/lib/python3.11/dist-packages (from httpx<1,>=0.23.0->langsmith<0.4,>=0.1.125->langchain-community) (4.9.0)\n",
            "Requirement already satisfied: httpcore==1.* in /usr/local/lib/python3.11/dist-packages (from httpx<1,>=0.23.0->langsmith<0.4,>=0.1.125->langchain-community) (1.0.7)\n",
            "Requirement already satisfied: h11<0.15,>=0.13 in /usr/local/lib/python3.11/dist-packages (from httpcore==1.*->httpx<1,>=0.23.0->langsmith<0.4,>=0.1.125->langchain-community) (0.14.0)\n",
            "Requirement already satisfied: jsonpointer>=1.9 in /usr/local/lib/python3.11/dist-packages (from jsonpatch<2.0,>=1.33->langchain-core<1.0.0,>=0.3.51->langchain-community) (3.0.0)\n",
            "Requirement already satisfied: annotated-types>=0.6.0 in /usr/local/lib/python3.11/dist-packages (from pydantic<3.0.0,>=2.7.4->langchain<1.0.0,>=0.3.23->langchain-community) (0.7.0)\n",
            "Requirement already satisfied: pydantic-core==2.33.1 in /usr/local/lib/python3.11/dist-packages (from pydantic<3.0.0,>=2.7.4->langchain<1.0.0,>=0.3.23->langchain-community) (2.33.1)\n",
            "Requirement already satisfied: typing-inspection>=0.4.0 in /usr/local/lib/python3.11/dist-packages (from pydantic<3.0.0,>=2.7.4->langchain<1.0.0,>=0.3.23->langchain-community) (0.4.0)\n",
            "Collecting mypy-extensions>=0.3.0 (from typing-inspect<1,>=0.4.0->dataclasses-json<0.7,>=0.5.7->langchain-community)\n",
            "  Downloading mypy_extensions-1.0.0-py3-none-any.whl.metadata (1.1 kB)\n",
            "Requirement already satisfied: sniffio>=1.1 in /usr/local/lib/python3.11/dist-packages (from anyio->httpx<1,>=0.23.0->langsmith<0.4,>=0.1.125->langchain-community) (1.3.1)\n",
            "Downloading langchain_community-0.3.21-py3-none-any.whl (2.5 MB)\n",
            "\u001b[2K   \u001b[90m━━━━━━━━━━━━━━━━━━━━━━━━━━━━━━━━━━━━━━━━\u001b[0m \u001b[32m2.5/2.5 MB\u001b[0m \u001b[31m27.3 MB/s\u001b[0m eta \u001b[36m0:00:00\u001b[0m\n",
            "\u001b[?25hDownloading dataclasses_json-0.6.7-py3-none-any.whl (28 kB)\n",
            "Downloading httpx_sse-0.4.0-py3-none-any.whl (7.8 kB)\n",
            "Downloading pydantic_settings-2.8.1-py3-none-any.whl (30 kB)\n",
            "Downloading marshmallow-3.26.1-py3-none-any.whl (50 kB)\n",
            "\u001b[2K   \u001b[90m━━━━━━━━━━━━━━━━━━━━━━━━━━━━━━━━━━━━━━━━\u001b[0m \u001b[32m50.9/50.9 kB\u001b[0m \u001b[31m4.9 MB/s\u001b[0m eta \u001b[36m0:00:00\u001b[0m\n",
            "\u001b[?25hDownloading typing_inspect-0.9.0-py3-none-any.whl (8.8 kB)\n",
            "Downloading mypy_extensions-1.0.0-py3-none-any.whl (4.7 kB)\n",
            "Installing collected packages: mypy-extensions, marshmallow, httpx-sse, typing-inspect, pydantic-settings, dataclasses-json, langchain-community\n",
            "Successfully installed dataclasses-json-0.6.7 httpx-sse-0.4.0 langchain-community-0.3.21 marshmallow-3.26.1 mypy-extensions-1.0.0 pydantic-settings-2.8.1 typing-inspect-0.9.0\n"
          ]
        }
      ]
    },
    {
      "cell_type": "code",
      "source": [
        "!pip install faiss-cpu"
      ],
      "metadata": {
        "colab": {
          "base_uri": "https://localhost:8080/"
        },
        "id": "w0sy3X3WG3ec",
        "outputId": "7b87bde7-c382-445b-ef30-8f469e66d38f"
      },
      "id": "w0sy3X3WG3ec",
      "execution_count": 15,
      "outputs": [
        {
          "output_type": "stream",
          "name": "stdout",
          "text": [
            "Collecting faiss-cpu\n",
            "  Downloading faiss_cpu-1.10.0-cp311-cp311-manylinux_2_28_x86_64.whl.metadata (4.4 kB)\n",
            "Requirement already satisfied: numpy<3.0,>=1.25.0 in /usr/local/lib/python3.11/dist-packages (from faiss-cpu) (2.0.2)\n",
            "Requirement already satisfied: packaging in /usr/local/lib/python3.11/dist-packages (from faiss-cpu) (24.2)\n",
            "Downloading faiss_cpu-1.10.0-cp311-cp311-manylinux_2_28_x86_64.whl (30.7 MB)\n",
            "\u001b[2K   \u001b[90m━━━━━━━━━━━━━━━━━━━━━━━━━━━━━━━━━━━━━━━━\u001b[0m \u001b[32m30.7/30.7 MB\u001b[0m \u001b[31m56.7 MB/s\u001b[0m eta \u001b[36m0:00:00\u001b[0m\n",
            "\u001b[?25hInstalling collected packages: faiss-cpu\n",
            "Successfully installed faiss-cpu-1.10.0\n"
          ]
        }
      ]
    },
    {
      "cell_type": "code",
      "execution_count": 16,
      "id": "8e1eb23b-7ed1-4056-9fd1-ae2aea3a56d7",
      "metadata": {
        "id": "8e1eb23b-7ed1-4056-9fd1-ae2aea3a56d7"
      },
      "outputs": [],
      "source": [
        "from langchain.vectorstores import FAISS\n",
        "# from langchain.embeddings.openai import OpenAIEmbeddings\n",
        "from langchain.embeddings import HuggingFaceEmbeddings\n",
        "from langchain.text_splitter import RecursiveCharacterTextSplitter\n",
        "from langchain.document_loaders import TextLoader\n",
        "from langchain.llms import OpenAI\n",
        "from langchain.document_loaders import PyMuPDFLoader\n",
        "\n",
        "# Load and index documents\n",
        "loader = TextLoader(\"return-policy.txt\")\n",
        "documents = loader.load()\n",
        "\n",
        "# Split documents into chunks\n",
        "text_splitter = RecursiveCharacterTextSplitter(chunk_size=1000, chunk_overlap=20)\n",
        "split_docs = text_splitter.split_documents(documents)\n",
        "\n",
        "# Create embeddings and build FAISS index\n",
        "# embeddings = OpenAIEmbeddings()\n",
        "embeddings = HuggingFaceEmbeddings(model_name=\"sentence-transformers/all-MiniLM-L6-v2\")\n",
        "vector_store = FAISS.from_documents(split_docs, embeddings)\n",
        "retriever = vector_store.as_retriever(search_type=\"similarity_score_threshold\", search_kwargs={\"score_threshold\": 0.2})\n",
        "\n",
        "from langchain.tools.retriever import create_retriever_tool\n",
        "from langchain.agents import AgentExecutor, load_tools\n",
        "\n",
        "tool_search = create_retriever_tool(\n",
        "    retriever=retriever,\n",
        "    name=\"search_return_policy\",\n",
        "    description=\"Searches and returns policy, product, etc.\"\n",
        ")\n"
      ]
    },
    {
      "cell_type": "code",
      "execution_count": 17,
      "id": "1a9e4211-6dab-4c93-86c3-8ec12aa05fc2",
      "metadata": {
        "colab": {
          "base_uri": "https://localhost:8080/"
        },
        "id": "1a9e4211-6dab-4c93-86c3-8ec12aa05fc2",
        "outputId": "8adb1134-58a2-47c8-80a4-2fc380251b5e"
      },
      "outputs": [
        {
          "output_type": "stream",
          "name": "stderr",
          "text": [
            "/usr/local/lib/python3.11/dist-packages/langsmith/client.py:278: LangSmithMissingAPIKeyWarning: API key must be provided when using hosted LangSmith API\n",
            "  warnings.warn(\n"
          ]
        }
      ],
      "source": [
        "tools = load_tools([], llm=llm)\n",
        "tools.append(tool_search)\n",
        "tools.append(input_tool)\n",
        "tools.append(order_status_tool)\n",
        "tools.append(product_info_tool)\n",
        "tools.append(order_info_tool)\n",
        "tools.append(order_status_returned_tool)\n",
        "tools.append(get_today_date_tool)\n",
        "\n",
        "from langchain import hub\n",
        "prompt = hub.pull(\"hwchase17/react\")\n",
        "\n",
        "# only creates the logical steps for us\n",
        "from langchain.agents import AgentExecutor, create_react_agent\n",
        "\n",
        "react_agent = create_react_agent(llm, tools, prompt)\n",
        "agent_executor = AgentExecutor(\n",
        "    agent=react_agent, tools=tools, verbose=True, handle_parsing_errors=True\n",
        ")\n",
        "\n",
        "def prompt_user_for_info(query):\n",
        "    response = agent_executor.invoke({\"input\": query})\n",
        "    if \"Please provide\" in response[\"output\"]:\n",
        "        new_input = input(response[\"output\"])  # Prompt the user for additional input\n",
        "        return prompt_user_for_info(new_input)\n",
        "    else:\n",
        "        return response\n"
      ]
    },
    {
      "cell_type": "code",
      "execution_count": 18,
      "id": "f4fef97b-900f-4d7c-8247-15358580d3f0",
      "metadata": {
        "deletable": false,
        "editable": false,
        "nbgrader": {
          "cell_type": "code",
          "checksum": "954420f2c41c98da914fb9e290b48300",
          "grade": true,
          "grade_id": "cell-5475e924e91a1316",
          "locked": true,
          "points": 50,
          "schema_version": 3,
          "solution": false,
          "task": false
        },
        "colab": {
          "base_uri": "https://localhost:8080/"
        },
        "id": "f4fef97b-900f-4d7c-8247-15358580d3f0",
        "outputId": "f74059de-c1b9-475c-c298-875293d061ec"
      },
      "outputs": [
        {
          "output_type": "stream",
          "name": "stdout",
          "text": [
            "\n",
            "\n",
            "\u001b[1m> Entering new AgentExecutor chain...\u001b[0m\n",
            "\u001b[32;1m\u001b[1;3mThought: I need to get the order status of order_id 125.\n",
            "\n",
            "Action: get_order_status\n",
            "Action Input: 125\u001b[0m\u001b[38;5;200m\u001b[1;3mPlease provide an order ID in the format: 'order_id = <your_order_id>'\u001b[0m\u001b[32;1m\u001b[1;3mIt seems like I need to provide the order ID in a specific format.\n",
            "\n",
            "Action: get_order_status\n",
            "Action Input: 'order_id = 125'\u001b[0m\u001b[38;5;200m\u001b[1;3mPlease provide an order ID in the format: 'order_id = <your_order_id>'\u001b[0m\u001b[32;1m\u001b[1;3mIt seems like I'm stuck in an infinite loop! Let me try again.\n",
            "\n",
            "Action: get_order_status\n",
            "Action Input: order_id = 125\u001b[0m\u001b[38;5;200m\u001b[1;3mDelivered\u001b[0m\u001b[32;1m\u001b[1;3mI now know the final answer\n",
            "Final Answer: The order status of order_id 125 is Delivered.\u001b[0m\n",
            "\n",
            "\u001b[1m> Finished chain.\u001b[0m\n",
            "{'input': 'what is the order status of order_id 125?', 'output': 'The order status of order_id 125 is Delivered.'}\n"
          ]
        }
      ],
      "source": [
        "query = \"what is the order status of order_id 125?\"\n",
        "final_response = prompt_user_for_info(query)\n",
        "print(final_response)\n",
        "assert(\"Delivered\" in final_response['output'])"
      ]
    },
    {
      "cell_type": "code",
      "execution_count": 19,
      "id": "5b06a9af-8700-4fbc-945c-9ed5358f0f26",
      "metadata": {
        "colab": {
          "base_uri": "https://localhost:8080/"
        },
        "id": "5b06a9af-8700-4fbc-945c-9ed5358f0f26",
        "outputId": "06a4d4b1-22ed-477a-f35a-e854d5fdad72"
      },
      "outputs": [
        {
          "output_type": "stream",
          "name": "stdout",
          "text": [
            "\n",
            "\n",
            "\u001b[1m> Entering new AgentExecutor chain...\u001b[0m\n",
            "\u001b[32;1m\u001b[1;3mThought: I need to get the order ID from the user to get the product information.\n",
            "\n",
            "Action: get_input_from_user\n",
            "Action Input: \"Please enter the order ID: \"\u001b[0mPlease enter the order ID: 123\n",
            "\u001b[33;1m\u001b[1;3m123\u001b[0m\u001b[32;1m\u001b[1;3mThought: Now that I have the order ID, I need to get the order information using the order ID.\n",
            "\n",
            "Action: get_order_info\n",
            "Action Input: 123\u001b[0m\u001b[33;1m\u001b[1;3mPlease provide an order ID in the format: 'order_id = <your_order_id>'\u001b[0m\u001b[32;1m\u001b[1;3mIt seems like the observation from the `get_order_info` action is not providing the actual order information, but rather a prompt to provide the order ID in a specific format. Let's try again.\n",
            "\n",
            "Action: get_input_from_user\n",
            "Action Input: \"Please enter the order ID in the format 'order_id = <your_order_id>': \"\u001b[0mPlease enter the order ID in the format 'order_id = <your_order_id>': order_id = 123\n",
            "\u001b[33;1m\u001b[1;3morder_id = 123\u001b[0m\u001b[32;1m\u001b[1;3mThought: Now that I have the order ID in the correct format, I can get the order information.\n",
            "\n",
            "Action: get_order_info\n",
            "Action Input: order_id = 123\u001b[0m\u001b[33;1m\u001b[1;3m{'customer_name': 'John Doe', 'order_date': '2022-01-01', 'products': ['Laptop', 'Monitor'], 'total': 1500.0}\u001b[0m\u001b[32;1m\u001b[1;3mThought: I now know the final answer\n",
            "\n",
            "Final Answer: The product information of the order is: Laptop and Monitor.\u001b[0m\n",
            "\n",
            "\u001b[1m> Finished chain.\u001b[0m\n",
            "{'input': 'get product information of the order?', 'output': 'The product information of the order is: Laptop and Monitor.'}\n"
          ]
        }
      ],
      "source": [
        "query = \"get product information of the order?\"\n",
        "final_response = prompt_user_for_info(query)\n",
        "print(final_response)"
      ]
    },
    {
      "cell_type": "code",
      "execution_count": 20,
      "id": "881e3a4e-a6ce-4bc8-bbff-b894f65bf95e",
      "metadata": {
        "colab": {
          "base_uri": "https://localhost:8080/"
        },
        "id": "881e3a4e-a6ce-4bc8-bbff-b894f65bf95e",
        "outputId": "98cac04e-450c-4c6e-dea1-daaab4b36621"
      },
      "outputs": [
        {
          "output_type": "stream",
          "name": "stdout",
          "text": [
            "\n",
            "\n",
            "\u001b[1m> Entering new AgentExecutor chain...\u001b[0m\n",
            "\u001b[32;1m\u001b[1;3mThought: I need to know the order ID to return the product.\n",
            "\n",
            "Action: get_input_from_user\n",
            "Action Input: \"Please enter your order ID: \"\u001b[0mPlease enter your order ID: order_id = 125\n",
            "\u001b[33;1m\u001b[1;3morder_id = 125\u001b[0m\u001b[32;1m\u001b[1;3mThought: Now that I have the order ID, I need to check the status of the order.\n",
            "\n",
            "Action: get_order_status\n",
            "Action Input: order_id = 125\u001b[0m\u001b[38;5;200m\u001b[1;3mDelivered\u001b[0m"
          ]
        },
        {
          "output_type": "stream",
          "name": "stderr",
          "text": [
            "WARNING:langchain_core.vectorstores.base:No relevant docs were retrieved using the relevance score threshold 0.2\n"
          ]
        },
        {
          "output_type": "stream",
          "name": "stdout",
          "text": [
            "\u001b[32;1m\u001b[1;3mThought: Since the order status is \"Delivered\", I need to check the return policy for this product.\n",
            "\n",
            "Action: search_return_policy\n",
            "Action Input: query = \"return policy\"\u001b[0m\u001b[36;1m\u001b[1;3m\u001b[0m"
          ]
        },
        {
          "output_type": "stream",
          "name": "stderr",
          "text": [
            "WARNING:langchain_core.vectorstores.base:No relevant docs were retrieved using the relevance score threshold 0.2\n"
          ]
        },
        {
          "output_type": "stream",
          "name": "stdout",
          "text": [
            "\u001b[32;1m\u001b[1;3mThought: I need to extract the relevant information from the return policy to determine if the product can be returned.\n",
            "\n",
            "Action: search_return_policy\n",
            "Action Input: query = \"return policy\"\u001b[0m\u001b[36;1m\u001b[1;3m\u001b[0m\u001b[32;1m\u001b[1;3mLet's continue from here.\n",
            "\n",
            "Thought: I need to extract the relevant information from the return policy to determine if the product can be returned.\n",
            "\n",
            "Action: get_product_info\n",
            "Action Input: product_name = ? (I need to know the product name)\u001b[0m\u001b[36;1m\u001b[1;3mProduct not found\u001b[0m\u001b[32;1m\u001b[1;3mIt seems like I need to get the product name from the order information.\n",
            "\n",
            "Action: get_order_info\n",
            "Action Input: order_id = 125\u001b[0m\u001b[33;1m\u001b[1;3m{'customer_name': 'Bob Smith', 'order_date': '2022-02-01', 'products': ['Tablet', 'Laptop'], 'total': 2500.0}\u001b[0m\u001b[32;1m\u001b[1;3mThought: I now know the product name is 'Tablet' or 'Laptop', but I need to know which one the user wants to return.\n",
            "\n",
            "Action: get_input_from_user\n",
            "Action Input: \"Which product do you want to return? Tablet or Laptop?\"\u001b[0mWhich product do you want to return? Tablet or Laptop?Tablet\n",
            "\u001b[33;1m\u001b[1;3mTablet\u001b[0m\u001b[32;1m\u001b[1;3mThought: Now that I have the product name, I can get the product information.\n",
            "\n",
            "Action: get_product_info\n",
            "Action Input: product_name = \"Tablet\"\u001b[0m\u001b[36;1m\u001b[1;3mProduct not found\u001b[0m\u001b[32;1m\u001b[1;3mIt seems like I need to get the product information from the order information instead.\n",
            "\n",
            "Action: get_order_info\n",
            "Action Input: order_id = 125\u001b[0m\u001b[33;1m\u001b[1;3m{'customer_name': 'Bob Smith', 'order_date': '2022-02-01', 'products': ['Tablet', 'Laptop'], 'total': 2500.0}\u001b[0m\u001b[32;1m\u001b[1;3mThought: I now know the product information, and I can extract the relevant details to determine if the product can be returned.\n",
            "\n",
            "Action: search_return_policy\n",
            "Action Input: query = \"return policy for Tablet\"\u001b[0m\u001b[36;1m\u001b[1;3mreturn_policy:\n",
            "Our return policy allows returns within 30 days of purchase.\n",
            "for Tablet , the return policy allows return within 10 days of purchase.\n",
            "\n",
            "order_tracking: \n",
            "You can track your order status using your order ID.\n",
            "\n",
            "product_info:\n",
            "Product information includes specifications and features.\u001b[0m\u001b[32;1m\u001b[1;3mThought: I now know the final answer\n",
            "\n",
            "Final Answer: According to the return policy, you can return the Tablet within 10 days of purchase. Please ensure you meet the return policy conditions to initiate the return process.\u001b[0m\n",
            "\n",
            "\u001b[1m> Finished chain.\u001b[0m\n",
            "{'input': 'Return my product which was ordered?', 'output': 'According to the return policy, you can return the Tablet within 10 days of purchase. Please ensure you meet the return policy conditions to initiate the return process.'}\n"
          ]
        }
      ],
      "source": [
        "query = \"Return my product which was ordered?\"\n",
        "final_response = prompt_user_for_info(query)\n",
        "print(final_response)"
      ]
    },
    {
      "cell_type": "code",
      "execution_count": null,
      "id": "aca5fdc3-b048-4d43-8400-e9dc79ec9966",
      "metadata": {
        "id": "aca5fdc3-b048-4d43-8400-e9dc79ec9966"
      },
      "outputs": [],
      "source": []
    }
  ],
  "metadata": {
    "kernelspec": {
      "display_name": "base",
      "language": "python",
      "name": "python3"
    },
    "language_info": {
      "codemirror_mode": {
        "name": "ipython",
        "version": 3
      },
      "file_extension": ".py",
      "mimetype": "text/x-python",
      "name": "python",
      "nbconvert_exporter": "python",
      "pygments_lexer": "ipython3",
      "version": "3.10.9"
    },
    "colab": {
      "provenance": [],
      "include_colab_link": true
    }
  },
  "nbformat": 4,
  "nbformat_minor": 5
}